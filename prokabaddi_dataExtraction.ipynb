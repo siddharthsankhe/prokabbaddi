{
 "cells": [
  {
   "cell_type": "code",
   "execution_count": 1,
   "metadata": {
    "scrolled": true
   },
   "outputs": [],
   "source": [
    "from bs4 import BeautifulSoup\n",
    "from selenium  import webdriver\n",
    "from selenium.webdriver.chrome.options  import Options\n",
    "option=Options()\n",
    "driver = webdriver.Chrome(executable_path='C:/Users/vicky/Downloads/chromedriver_win32/chromedriver.exe',options=option)\n",
    "#driver = webdriver.Chrome()\n",
    "driver.get('https://www.prokabaddi.com/stats/0-102-total-points-statistics')\n",
    "#soup = BeautifulSoup(driver.page_source,\"lxml\")\n",
    "#for item in soup.select('.sipk-lb-playerName'):\n",
    "#    [elem.extract() for elem in soup(\"span\")]\n",
    "#   print(item.text)\n",
    "#driver.quit()"
   ]
  },
  {
   "cell_type": "code",
   "execution_count": 2,
   "metadata": {},
   "outputs": [],
   "source": [
    "element = driver.find_element_by_id('player_Btn')\n",
    "element.click()"
   ]
  },
  {
   "cell_type": "code",
   "execution_count": 5,
   "metadata": {},
   "outputs": [],
   "source": [
    "for i in range(1,20):\n",
    "    load = driver.find_element_by_id('load_more')\n",
    "    load.click()"
   ]
  },
  {
   "cell_type": "code",
   "execution_count": 6,
   "metadata": {},
   "outputs": [],
   "source": [
    "soup = BeautifulSoup(driver.page_source)"
   ]
  },
  {
   "cell_type": "code",
   "execution_count": 7,
   "metadata": {},
   "outputs": [],
   "source": [
    "name_list=soup.findAll('div',attrs={'class':'sipk-lb-playerName'})\n",
    "name_f=\"\"\n",
    "for name in name_list:\n",
    "    name_s=str(name)\n",
    "    name_s=name_s.replace('span','')\n",
    "    name_s=name_s.replace('<div class=\"sipk-lb-playerName\">','')\n",
    "    name_s=name_s.replace('\\n','')\n",
    "    name_s=name_s.replace('<>','')\n",
    "    name_s=name_s.replace('</></div>','')\n",
    "    name_s=name_s.strip()\n",
    "    name_f=name_f+name_s+\",\" \n",
    "name_f=name_f[:-1]\n",
    "name_list=list(name_f.split(\",\"))"
   ]
  },
  {
   "cell_type": "code",
   "execution_count": 8,
   "metadata": {},
   "outputs": [],
   "source": [
    "raid_f=\"\"\n",
    "raid_list=soup.findAll('div',attrs={'class':'sipk-lb-detailBlock sipk-lb-raidPoints'})\n",
    "for raid in raid_list:\n",
    "    raid_s=str(raid)\n",
    "    raid_s=raid_s.replace('span','')\n",
    "    raid_s=raid_s.replace('<div class=\"sipk-lb-detailBlock sipk-lb-raidPoints\">','')\n",
    "    raid_s=raid_s.replace('\\n','')\n",
    "    raid_s=raid_s.replace('<>','')\n",
    "    raid_s=raid_s.replace('</></div>','')\n",
    "    raid_s=raid_s.strip()\n",
    "    raid_f=raid_f+raid_s+','\n",
    "raid_f=raid_f[:-1]   \n",
    "total_point_list=list(raid_f.split(\",\"))"
   ]
  },
  {
   "cell_type": "code",
   "execution_count": 9,
   "metadata": {},
   "outputs": [],
   "source": [
    "matchPlayed_f=\"\"\n",
    "matchPlayed_list=soup.findAll('div',attrs={'sipk-lb-detailBlock sipk-lb-matchedPlayed'})\n",
    "for matchPlayed in matchPlayed_list:\n",
    "    matchPlayed_s=str(matchPlayed)\n",
    "    matchPlayed_s=matchPlayed_s.replace('span','')\n",
    "    matchPlayed_s=matchPlayed_s.replace('<div class=\"sipk-lb-detailBlock sipk-lb-matchedPlayed\">','')\n",
    "    matchPlayed_s=matchPlayed_s.replace('\\n','')\n",
    "    matchPlayed_s=matchPlayed_s.replace('<>','')\n",
    "    matchPlayed_s=matchPlayed_s.replace('</></div>','')\n",
    "    matchPlayed_s=matchPlayed_s.strip()\n",
    "    matchPlayed_f=matchPlayed_f+matchPlayed_s+','\n",
    "matchPlayed_f=matchPlayed_f[:-1]\n",
    "matchPlayed_list=list(matchPlayed_f.split(\",\"))\n"
   ]
  },
  {
   "cell_type": "code",
   "execution_count": 10,
   "metadata": {},
   "outputs": [],
   "source": [
    "import pandas as pd\n",
    "df = pd.DataFrame(list(zip(name_list, matchPlayed_list,total_point_list)), \n",
    "               columns =['Name', 'matched_played','total_point']) "
   ]
  },
  {
   "cell_type": "code",
   "execution_count": 13,
   "metadata": {},
   "outputs": [],
   "source": [
    "df.to_csv(index=False,path_or_buf='C:/Users/vicky/Desktop/all_season_players_points.csv')"
   ]
  },
  {
   "cell_type": "code",
   "execution_count": 18,
   "metadata": {},
   "outputs": [],
   "source": [
    "for i in range(1,10):\n",
    "    team_btn = driver.find_element_by_id('team_Btn')\n",
    "    team_btn.click()"
   ]
  },
  {
   "cell_type": "code",
   "execution_count": 19,
   "metadata": {},
   "outputs": [],
   "source": [
    "soup_team = BeautifulSoup(driver.page_source)"
   ]
  },
  {
   "cell_type": "code",
   "execution_count": 20,
   "metadata": {},
   "outputs": [],
   "source": [
    "team_name_f=\"\"\n",
    "team_name_list=soup_team.findAll('div',attrs={'sipk-lb-playerName'})\n",
    "for team in team_name_list:\n",
    "    team_s=str(team)\n",
    "    team_s=team_s.replace('span','')\n",
    "    team_s=team_s.replace('<div class=\"sipk-lb-playerName\">','')\n",
    "    team_s=team_s.replace('\\n','')\n",
    "    team_s=team_s.replace('<>','')\n",
    "    team_s=team_s.replace('</></div>','')\n",
    "    team_s=team_s.strip()\n",
    "    team_name_f=team_name_f+team_s+','\n",
    "team_name_f=team_name_f[:-1]\n",
    "team_name_list=list(team_name_f.split(\",\"))"
   ]
  },
  {
   "cell_type": "code",
   "execution_count": 21,
   "metadata": {},
   "outputs": [],
   "source": [
    "matched_played_f=\"\"\n",
    "matched_played_list=soup_team.findAll('div',attrs={'sipk-lb-matchedPlayed'})\n",
    "for mp in matched_played_list:\n",
    "    mp_s=str(mp)\n",
    "    mp_s=mp_s.replace('span','')\n",
    "    mp_s=mp_s.replace('<div class=\"sipk-lb-matchedPlayed\">','')\n",
    "    mp_s=mp_s.replace('<div class=\"sipk-lb-detailBlock sipk-lb-matchedPlayed\">','')\n",
    "    mp_s=mp_s.replace('\\n','')\n",
    "    mp_s=mp_s.replace('<>','')\n",
    "    mp_s=mp_s.replace('</></div>','')\n",
    "    mp_s=mp_s.strip()\n",
    "    matched_played_f=matched_played_f+mp_s+','\n",
    "matched_played_f=matched_played_f[:-1]\n",
    "mp_list=list(matched_played_f.split(\",\"))"
   ]
  },
  {
   "cell_type": "code",
   "execution_count": 22,
   "metadata": {},
   "outputs": [],
   "source": [
    "tp_f=\"\"\n",
    "tp_list=soup_team.findAll('div',attrs={'sipk-lb-raidPoints'})\n",
    "for tp in tp_list:\n",
    "    tp_s=str(tp)\n",
    "    tp_s=tp_s.replace('span','')\n",
    "    #tp_s=tp_s.replace('<div class=\"sipk-lb-raidPoints\">','')\n",
    "    #tp_s=mp_s.replace('<div class=\"sipk-lb-detailBlock sipk-lb-raidPoints\">','')\n",
    "    #tp_s=mp_s.replace('<div class=\"sipk-lb-detailBlock sipk-lb-raidPoints\">','')\n",
    "    tp_s=tp_s.replace('<div class=\"sipk-lb-detailBlock sipk-lb-raidPoints\">','')\n",
    "    tp_s=tp_s.replace('\\n','')\n",
    "    tp_s=tp_s.replace('<>','')\n",
    "    tp_s=tp_s.replace('</></div>','')\n",
    "    tp_s=tp_s.strip()\n",
    "    \n",
    "    tp_f=tp_f+tp_s+','\n",
    "tp_f=tp_f[:-1]\n",
    "tp_list=list(tp_f.split(\",\"))"
   ]
  },
  {
   "cell_type": "code",
   "execution_count": 23,
   "metadata": {},
   "outputs": [],
   "source": [
    "import pandas as pd\n",
    "df_team_points = pd.DataFrame(list(zip(team_name_list, matched_played_f,tp_list)), \n",
    "               columns =['Team Name', 'matched_played','total_point']) "
   ]
  },
  {
   "cell_type": "code",
   "execution_count": 26,
   "metadata": {},
   "outputs": [],
   "source": [
    "df_team_points.to_csv(index=False,path_or_buf='C:/Users/vicky/Desktop/all_season_team_points.csv')"
   ]
  },
  {
   "cell_type": "code",
   "execution_count": 10,
   "metadata": {},
   "outputs": [],
   "source": [
    "element = driver.find_element_by_id('player_Btn')\n",
    "element.click()\n",
    "from selenium.webdriver.support.select import Select\n",
    "import pandas as pd\n",
    "#season1_soup = BeautifulSoup(driver.page_source)\n",
    "\n"
   ]
  },
  {
   "cell_type": "code",
   "execution_count": 11,
   "metadata": {},
   "outputs": [],
   "source": [
    "\n",
    "select_season='Season 7'\n",
    "select_fr = Select(driver.find_element_by_id('season_dropdown'))\n",
    "select_fr.select_by_visible_text(select_season)"
   ]
  },
  {
   "cell_type": "code",
   "execution_count": 12,
   "metadata": {},
   "outputs": [],
   "source": [
    "for i in range(1,8):\n",
    "    load = driver.find_element_by_id('load_more')\n",
    "    load.click()\n",
    "season1_soup = BeautifulSoup(driver.page_source)"
   ]
  },
  {
   "cell_type": "code",
   "execution_count": 13,
   "metadata": {},
   "outputs": [],
   "source": [
    "player_name_f=\"\"\n",
    "plya_name_list=season1_soup.findAll('div',attrs={'sipk-lb-playerName'})\n",
    "for pp in plya_name_list:\n",
    "    pp_s=str(pp)\n",
    "    pp_s=pp_s.replace('span','')\n",
    "    pp_s=pp_s.replace('<div class=\"sipk-lb-playerName\">','')\n",
    "    pp_s=pp_s.replace('\\n','')\n",
    "    pp_s=pp_s.replace('<>','')\n",
    "    pp_s=pp_s.replace('</></div>','')\n",
    "    pp_s=pp_s.strip()\n",
    "\n",
    "    player_name_f=player_name_f+pp_s+','\n",
    "player_name_f=player_name_f[:-1]\n",
    "player_list=list(player_name_f.split(\",\"))"
   ]
  },
  {
   "cell_type": "code",
   "execution_count": 14,
   "metadata": {},
   "outputs": [],
   "source": [
    "\n",
    "    \n",
    "mp_f=\"\"\n",
    "mp_list=season1_soup.findAll('div',attrs={'sipk-lb-detailBlock sipk-lb-matchedPlayed'})\n",
    "for mp in mp_list:\n",
    "    mp_s=str(mp)\n",
    "    mp_s=mp_s.replace('span','')\n",
    "    mp_s=mp_s.replace('<div class=\"sipk-lb-detailBlock sipk-lb-matchedPlayed\">','')\n",
    "    mp_s=mp_s.replace('\\n','')\n",
    "    mp_s=mp_s.replace('<>','')\n",
    "    mp_s=mp_s.replace('</></div>','')\n",
    "    mp_s=mp_s.strip()\n",
    "\n",
    "    mp_f=mp_f+mp_s+','\n",
    "mp_f=mp_f[:-1]\n",
    "mp_list=list(mp_f.split(\",\"))\n",
    "    \n",
    "tp_f=\"\"\n",
    "tp_list=season1_soup.findAll('div',attrs={'sipk-lb-detailBlock sipk-lb-raidPoints'})\n",
    "for tp in tp_list:\n",
    "    tp_s=str(tp)\n",
    "    tp_s=tp_s.replace('span','')\n",
    "    tp_s=tp_s.replace('<div class=\"sipk-lb-detailBlock sipk-lb-raidPoints\">','')\n",
    "    tp_s=tp_s.replace('\\n','')\n",
    "    tp_s=tp_s.replace('<>','')\n",
    "    tp_s=tp_s.replace('</></div>','')\n",
    "    tp_s=tp_s.strip()\n",
    "\n",
    "    tp_f=tp_f+tp_s+','\n",
    "tp_f=tp_f[:-1]\n",
    "tp_list=list(tp_f.split(\",\"))\n",
    "    \n"
   ]
  },
  {
   "cell_type": "code",
   "execution_count": 15,
   "metadata": {},
   "outputs": [],
   "source": [
    "season_player_point = pd.DataFrame(list(zip(player_list, mp_list,tp_list)), \n",
    "                                    columns =['player Name', 'matched_played','total_point']) \n",
    "\n"
   ]
  },
  {
   "cell_type": "code",
   "execution_count": 17,
   "metadata": {},
   "outputs": [],
   "source": [
    "\n",
    "path1='C:/Users/vicky/Desktop/season_7.csv'\n",
    "season_player_point.to_csv(index=False,path_or_buf=path1)"
   ]
  },
  {
   "cell_type": "code",
   "execution_count": 18,
   "metadata": {},
   "outputs": [],
   "source": [
    "##finding season wise team data"
   ]
  },
  {
   "cell_type": "code",
   "execution_count": 75,
   "metadata": {},
   "outputs": [],
   "source": [
    "team_btn = driver.find_element_by_id('team_Btn')\n",
    "team_btn.click()\n",
    "from selenium.webdriver.support.select import Select\n",
    "import pandas as pd"
   ]
  },
  {
   "cell_type": "code",
   "execution_count": 76,
   "metadata": {},
   "outputs": [],
   "source": [
    "select_season='Season 7'\n",
    "select_fr = Select(driver.find_element_by_id('season_dropdown'))\n",
    "select_fr.select_by_visible_text(select_season)\n",
    "season1_soup = BeautifulSoup(driver.page_source)"
   ]
  },
  {
   "cell_type": "code",
   "execution_count": 77,
   "metadata": {},
   "outputs": [],
   "source": [
    "team_name_f=\"\"\n",
    "team_name_list=season1_soup.findAll('div',attrs={'sipk-lb-playerName'})\n",
    "for tt in team_name_list:\n",
    "    tt_s=str(tt)\n",
    "    tt_s=tt_s.replace('span','')\n",
    "    tt_s=tt_s.replace('<div class=\"sipk-lb-playerName\">','')\n",
    "    tt_s=tt_s.replace('\\n','')\n",
    "    tt_s=tt_s.replace('<>','')\n",
    "    tt_s=tt_s.replace('</></div>','')\n",
    "    tt_s=tt_s.strip()\n",
    "\n",
    "    team_name_f=team_name_f+tt_s+','\n",
    "team_name_f=team_name_f[:-1]\n",
    "team_list=list(team_name_f.split(\",\"))\n",
    "\n",
    "mp_f=\"\"\n",
    "mp_list=season1_soup.findAll('div',attrs={'sipk-lb-detailBlock sipk-lb-matchedPlayed'})\n",
    "for mp in mp_list:\n",
    "    mp_s=str(mp)\n",
    "    mp_s=mp_s.replace('span','')\n",
    "    mp_s=mp_s.replace('<div class=\"sipk-lb-detailBlock sipk-lb-matchedPlayed\">','')\n",
    "    mp_s=mp_s.replace('\\n','')\n",
    "    mp_s=mp_s.replace('<>','')\n",
    "    mp_s=mp_s.replace('</></div>','')\n",
    "    mp_s=mp_s.strip()\n",
    "\n",
    "    mp_f=mp_f+mp_s+','\n",
    "mp_f=mp_f[:-1]\n",
    "mp_list=list(mp_f.split(\",\"))\n",
    "    \n",
    "tp_f=\"\"\n",
    "tp_list=season1_soup.findAll('div',attrs={'sipk-lb-detailBlock sipk-lb-raidPoints'})\n",
    "for tp in tp_list:\n",
    "    tp_s=str(tp)\n",
    "    tp_s=tp_s.replace('span','')\n",
    "    tp_s=tp_s.replace('<div class=\"sipk-lb-detailBlock sipk-lb-raidPoints\">','')\n",
    "    tp_s=tp_s.replace('\\n','')\n",
    "    tp_s=tp_s.replace('<>','')\n",
    "    tp_s=tp_s.replace('</></div>','')\n",
    "    tp_s=tp_s.strip()\n",
    "\n",
    "    tp_f=tp_f+tp_s+','\n",
    "tp_f=tp_f[:-1]\n",
    "tp_list=list(tp_f.split(\",\"))"
   ]
  },
  {
   "cell_type": "code",
   "execution_count": 78,
   "metadata": {},
   "outputs": [],
   "source": [
    "season_team_point = pd.DataFrame(list(zip(team_list, mp_list,tp_list)), \n",
    "                                    columns =['team Name', 'matched_played','total_point']) \n",
    "\n"
   ]
  },
  {
   "cell_type": "code",
   "execution_count": 79,
   "metadata": {},
   "outputs": [
    {
     "data": {
      "text/html": [
       "<div>\n",
       "<style scoped>\n",
       "    .dataframe tbody tr th:only-of-type {\n",
       "        vertical-align: middle;\n",
       "    }\n",
       "\n",
       "    .dataframe tbody tr th {\n",
       "        vertical-align: top;\n",
       "    }\n",
       "\n",
       "    .dataframe thead th {\n",
       "        text-align: right;\n",
       "    }\n",
       "</style>\n",
       "<table border=\"1\" class=\"dataframe\">\n",
       "  <thead>\n",
       "    <tr style=\"text-align: right;\">\n",
       "      <th></th>\n",
       "      <th>team Name</th>\n",
       "      <th>matched_played</th>\n",
       "      <th>total_point</th>\n",
       "    </tr>\n",
       "  </thead>\n",
       "  <tbody>\n",
       "    <tr>\n",
       "      <th>0</th>\n",
       "      <td>Bengal Warriors</td>\n",
       "      <td>18</td>\n",
       "      <td>636</td>\n",
       "    </tr>\n",
       "    <tr>\n",
       "      <th>1</th>\n",
       "      <td>Bengaluru Bulls</td>\n",
       "      <td>17</td>\n",
       "      <td>582</td>\n",
       "    </tr>\n",
       "    <tr>\n",
       "      <th>2</th>\n",
       "      <td>Puneri Paltan</td>\n",
       "      <td>18</td>\n",
       "      <td>578</td>\n",
       "    </tr>\n",
       "    <tr>\n",
       "      <th>3</th>\n",
       "      <td>Dabang Delhi K.C.</td>\n",
       "      <td>16</td>\n",
       "      <td>567</td>\n",
       "    </tr>\n",
       "    <tr>\n",
       "      <th>4</th>\n",
       "      <td>Patna Pirates</td>\n",
       "      <td>17</td>\n",
       "      <td>567</td>\n",
       "    </tr>\n",
       "    <tr>\n",
       "      <th>5</th>\n",
       "      <td>Jaipur Pink Panthers</td>\n",
       "      <td>18</td>\n",
       "      <td>552</td>\n",
       "    </tr>\n",
       "    <tr>\n",
       "      <th>6</th>\n",
       "      <td>Haryana Steelers</td>\n",
       "      <td>16</td>\n",
       "      <td>543</td>\n",
       "    </tr>\n",
       "    <tr>\n",
       "      <th>7</th>\n",
       "      <td>U Mumba</td>\n",
       "      <td>17</td>\n",
       "      <td>529</td>\n",
       "    </tr>\n",
       "    <tr>\n",
       "      <th>8</th>\n",
       "      <td>Tamil Thalaivas</td>\n",
       "      <td>18</td>\n",
       "      <td>525</td>\n",
       "    </tr>\n",
       "    <tr>\n",
       "      <th>9</th>\n",
       "      <td>Gujarat Fortunegiants</td>\n",
       "      <td>18</td>\n",
       "      <td>518</td>\n",
       "    </tr>\n",
       "  </tbody>\n",
       "</table>\n",
       "</div>"
      ],
      "text/plain": [
       "               team Name matched_played total_point\n",
       "0        Bengal Warriors             18         636\n",
       "1        Bengaluru Bulls             17         582\n",
       "2          Puneri Paltan             18         578\n",
       "3      Dabang Delhi K.C.             16         567\n",
       "4          Patna Pirates             17         567\n",
       "5   Jaipur Pink Panthers             18         552\n",
       "6       Haryana Steelers             16         543\n",
       "7                U Mumba             17         529\n",
       "8        Tamil Thalaivas             18         525\n",
       "9  Gujarat Fortunegiants             18         518"
      ]
     },
     "execution_count": 79,
     "metadata": {},
     "output_type": "execute_result"
    }
   ],
   "source": [
    "season_team_point"
   ]
  },
  {
   "cell_type": "code",
   "execution_count": 80,
   "metadata": {},
   "outputs": [],
   "source": [
    "season_team_point.to_csv(index=False,path_or_buf='C:/Users/vicky/Desktop/team_season_7.csv')"
   ]
  },
  {
   "cell_type": "code",
   "execution_count": 2,
   "metadata": {},
   "outputs": [],
   "source": [
    "## team wise score card"
   ]
  },
  {
   "cell_type": "code",
   "execution_count": 22,
   "metadata": {},
   "outputs": [],
   "source": [
    "team_links=['teams/bengal-warriors-profile-4',\n",
    "'teams/bengaluru-bulls-profile-1',\n",
    "'teams/dabang-delhi-kc-profile-2',\n",
    "'teams/gujarat-fortunegiants-profile-31',\n",
    "'teams/haryana-steelers-profile-28',\n",
    "'teams/jaipur-pink-panthers-profile-3',\n",
    "'teams/patna-pirates-profile-6',\n",
    "'teams/puneri-paltan-profile-7',\n",
    "'teams/tamil-thalaivas-profile-29',\n",
    "'teams/telugu-titans-profile-8',\n",
    "'teams/u-mumba-profile-5',\n",
    "'teams/up-yoddha-profile-30']"
   ]
  },
  {
   "cell_type": "code",
   "execution_count": 34,
   "metadata": {},
   "outputs": [],
   "source": [
    "import pandas as pd\n",
    "\n",
    "Data = pd.read_html('https://en.wikipedia.org/wiki/2018%E2%80%9319_Pro_Kabaddi_League_season', header=0, flavor='bs4')\n"
   ]
  },
  {
   "cell_type": "code",
   "execution_count": 41,
   "metadata": {},
   "outputs": [],
   "source": [
    "season6=Data[6]"
   ]
  },
  {
   "cell_type": "code",
   "execution_count": 42,
   "metadata": {},
   "outputs": [
    {
     "data": {
      "text/html": [
       "<div>\n",
       "<style scoped>\n",
       "    .dataframe tbody tr th:only-of-type {\n",
       "        vertical-align: middle;\n",
       "    }\n",
       "\n",
       "    .dataframe tbody tr th {\n",
       "        vertical-align: top;\n",
       "    }\n",
       "\n",
       "    .dataframe thead th {\n",
       "        text-align: right;\n",
       "    }\n",
       "</style>\n",
       "<table border=\"1\" class=\"dataframe\">\n",
       "  <thead>\n",
       "    <tr style=\"text-align: right;\">\n",
       "      <th></th>\n",
       "      <th>Team</th>\n",
       "      <th>Played</th>\n",
       "      <th>Won</th>\n",
       "      <th>Lost</th>\n",
       "      <th>Tied</th>\n",
       "      <th>SD</th>\n",
       "      <th>Points</th>\n",
       "    </tr>\n",
       "  </thead>\n",
       "  <tbody>\n",
       "    <tr>\n",
       "      <th>0</th>\n",
       "      <td>Bengaluru Bulls</td>\n",
       "      <td>22.0</td>\n",
       "      <td>13.0</td>\n",
       "      <td>7.0</td>\n",
       "      <td>2.0</td>\n",
       "      <td>104.0</td>\n",
       "      <td>78.0</td>\n",
       "    </tr>\n",
       "    <tr>\n",
       "      <th>1</th>\n",
       "      <td>Bengal Warriors</td>\n",
       "      <td>22.0</td>\n",
       "      <td>12.0</td>\n",
       "      <td>8.0</td>\n",
       "      <td>2.0</td>\n",
       "      <td>2.0</td>\n",
       "      <td>69.0</td>\n",
       "    </tr>\n",
       "    <tr>\n",
       "      <th>2</th>\n",
       "      <td>UP Yoddha</td>\n",
       "      <td>22.0</td>\n",
       "      <td>8.0</td>\n",
       "      <td>10.0</td>\n",
       "      <td>4.0</td>\n",
       "      <td>-45.0</td>\n",
       "      <td>57.0</td>\n",
       "    </tr>\n",
       "    <tr>\n",
       "      <th>3</th>\n",
       "      <td>NaN</td>\n",
       "      <td>NaN</td>\n",
       "      <td>NaN</td>\n",
       "      <td>NaN</td>\n",
       "      <td>NaN</td>\n",
       "      <td>NaN</td>\n",
       "      <td>NaN</td>\n",
       "    </tr>\n",
       "    <tr>\n",
       "      <th>4</th>\n",
       "      <td>Patna Pirates</td>\n",
       "      <td>22.0</td>\n",
       "      <td>9.0</td>\n",
       "      <td>11.0</td>\n",
       "      <td>2.0</td>\n",
       "      <td>-36.0</td>\n",
       "      <td>55.0</td>\n",
       "    </tr>\n",
       "    <tr>\n",
       "      <th>5</th>\n",
       "      <td>Telugu Titans</td>\n",
       "      <td>22.0</td>\n",
       "      <td>8.0</td>\n",
       "      <td>13.0</td>\n",
       "      <td>1.0</td>\n",
       "      <td>-55.0</td>\n",
       "      <td>51.0</td>\n",
       "    </tr>\n",
       "    <tr>\n",
       "      <th>6</th>\n",
       "      <td>Tamil Thalaivas</td>\n",
       "      <td>22.0</td>\n",
       "      <td>5.0</td>\n",
       "      <td>13.0</td>\n",
       "      <td>4.0</td>\n",
       "      <td>-70.0</td>\n",
       "      <td>42.0</td>\n",
       "    </tr>\n",
       "  </tbody>\n",
       "</table>\n",
       "</div>"
      ],
      "text/plain": [
       "              Team  Played   Won  Lost  Tied     SD  Points\n",
       "0  Bengaluru Bulls    22.0  13.0   7.0   2.0  104.0    78.0\n",
       "1  Bengal Warriors    22.0  12.0   8.0   2.0    2.0    69.0\n",
       "2        UP Yoddha    22.0   8.0  10.0   4.0  -45.0    57.0\n",
       "3              NaN     NaN   NaN   NaN   NaN    NaN     NaN\n",
       "4    Patna Pirates    22.0   9.0  11.0   2.0  -36.0    55.0\n",
       "5    Telugu Titans    22.0   8.0  13.0   1.0  -55.0    51.0\n",
       "6  Tamil Thalaivas    22.0   5.0  13.0   4.0  -70.0    42.0"
      ]
     },
     "execution_count": 42,
     "metadata": {},
     "output_type": "execute_result"
    }
   ],
   "source": [
    "season6"
   ]
  },
  {
   "cell_type": "code",
   "execution_count": 43,
   "metadata": {},
   "outputs": [],
   "source": [
    "season6.to_csv(index=False,path_or_buf='C:/Users/vicky/Desktop/season6_2_point_table.csv')"
   ]
  },
  {
   "cell_type": "code",
   "execution_count": 97,
   "metadata": {},
   "outputs": [],
   "source": [
    "from bs4 import BeautifulSoup\n",
    "from selenium  import webdriver\n",
    "from selenium.webdriver.chrome.options  import Options\n",
    "option=Options()\n",
    "driver = webdriver.Chrome(executable_path='C:/Users/vicky/Downloads/chromedriver_win32/chromedriver.exe',options=option)\n",
    "#driver = webdriver.Chrome()\n",
    "driver.get('https://www.prokabaddi.com/schedule-fixtures-results')\n",
    "#driver.findElement(By.cssSelector(\"div.alert.alert-count p\")).\n",
    "#soup = BeautifulSoup(driver.page_source)"
   ]
  },
  {
   "cell_type": "code",
   "execution_count": 98,
   "metadata": {},
   "outputs": [],
   "source": [
    "#from selenium.webdriver.support.select import Select\n",
    "\n",
    "#Select(driver.find_element_by_class_name(\"si-selectBox si-season-change\"))"
   ]
  },
  {
   "cell_type": "code",
   "execution_count": 139,
   "metadata": {},
   "outputs": [],
   "source": [
    "select_all =driver.find_elements_by_tag_name('select')"
   ]
  },
  {
   "cell_type": "code",
   "execution_count": 158,
   "metadata": {},
   "outputs": [
    {
     "name": "stdout",
     "output_type": "stream",
     "text": [
      "Value is: 09\n",
      "Value is: default\n",
      "Value is: default\n",
      "Value is: Season 3\n"
     ]
    },
    {
     "ename": "ElementClickInterceptedException",
     "evalue": "Message: element click intercepted: Element <select class=\"si-selectBox si-season-change\">...</select> is not clickable at point (1120, 20). Other element would receive the click: <a href=\"https://twitter.com/ProKabaddi\" target=\"_blank\" rel=\"nofollow\" class=\"twitter\"></a>\n  (Session info: chrome=77.0.3865.90)\n",
     "output_type": "error",
     "traceback": [
      "\u001b[1;31m---------------------------------------------------------------------------\u001b[0m",
      "\u001b[1;31mElementClickInterceptedException\u001b[0m          Traceback (most recent call last)",
      "\u001b[1;32m<ipython-input-158-fbd6e8e7c6c9>\u001b[0m in \u001b[0;36m<module>\u001b[1;34m\u001b[0m\n\u001b[0;32m      2\u001b[0m     \u001b[0mprint\u001b[0m\u001b[1;33m(\u001b[0m\u001b[1;34m\"Value is: %s\"\u001b[0m \u001b[1;33m%\u001b[0m \u001b[0moption\u001b[0m\u001b[1;33m.\u001b[0m\u001b[0mget_attribute\u001b[0m\u001b[1;33m(\u001b[0m\u001b[1;34m\"value\"\u001b[0m\u001b[1;33m)\u001b[0m\u001b[1;33m)\u001b[0m\u001b[1;33m\u001b[0m\u001b[1;33m\u001b[0m\u001b[0m\n\u001b[0;32m      3\u001b[0m     \u001b[1;32mif\u001b[0m \u001b[0moption\u001b[0m\u001b[1;33m.\u001b[0m\u001b[0mget_attribute\u001b[0m\u001b[1;33m(\u001b[0m\u001b[1;34m\"value\"\u001b[0m\u001b[1;33m)\u001b[0m\u001b[1;33m==\u001b[0m\u001b[1;34m'Season 3'\u001b[0m\u001b[1;33m:\u001b[0m\u001b[1;33m\u001b[0m\u001b[1;33m\u001b[0m\u001b[0m\n\u001b[1;32m----> 4\u001b[1;33m         \u001b[0moption\u001b[0m\u001b[1;33m.\u001b[0m\u001b[0mclick\u001b[0m\u001b[1;33m(\u001b[0m\u001b[1;33m)\u001b[0m\u001b[1;33m\u001b[0m\u001b[1;33m\u001b[0m\u001b[0m\n\u001b[0m\u001b[0;32m      5\u001b[0m \u001b[1;33m\u001b[0m\u001b[0m\n\u001b[0;32m      6\u001b[0m \u001b[1;33m\u001b[0m\u001b[0m\n",
      "\u001b[1;32m~\\Anaconda3\\lib\\site-packages\\selenium\\webdriver\\remote\\webelement.py\u001b[0m in \u001b[0;36mclick\u001b[1;34m(self)\u001b[0m\n\u001b[0;32m     78\u001b[0m     \u001b[1;32mdef\u001b[0m \u001b[0mclick\u001b[0m\u001b[1;33m(\u001b[0m\u001b[0mself\u001b[0m\u001b[1;33m)\u001b[0m\u001b[1;33m:\u001b[0m\u001b[1;33m\u001b[0m\u001b[1;33m\u001b[0m\u001b[0m\n\u001b[0;32m     79\u001b[0m         \u001b[1;34m\"\"\"Clicks the element.\"\"\"\u001b[0m\u001b[1;33m\u001b[0m\u001b[1;33m\u001b[0m\u001b[0m\n\u001b[1;32m---> 80\u001b[1;33m         \u001b[0mself\u001b[0m\u001b[1;33m.\u001b[0m\u001b[0m_execute\u001b[0m\u001b[1;33m(\u001b[0m\u001b[0mCommand\u001b[0m\u001b[1;33m.\u001b[0m\u001b[0mCLICK_ELEMENT\u001b[0m\u001b[1;33m)\u001b[0m\u001b[1;33m\u001b[0m\u001b[1;33m\u001b[0m\u001b[0m\n\u001b[0m\u001b[0;32m     81\u001b[0m \u001b[1;33m\u001b[0m\u001b[0m\n\u001b[0;32m     82\u001b[0m     \u001b[1;32mdef\u001b[0m \u001b[0msubmit\u001b[0m\u001b[1;33m(\u001b[0m\u001b[0mself\u001b[0m\u001b[1;33m)\u001b[0m\u001b[1;33m:\u001b[0m\u001b[1;33m\u001b[0m\u001b[1;33m\u001b[0m\u001b[0m\n",
      "\u001b[1;32m~\\Anaconda3\\lib\\site-packages\\selenium\\webdriver\\remote\\webelement.py\u001b[0m in \u001b[0;36m_execute\u001b[1;34m(self, command, params)\u001b[0m\n\u001b[0;32m    631\u001b[0m             \u001b[0mparams\u001b[0m \u001b[1;33m=\u001b[0m \u001b[1;33m{\u001b[0m\u001b[1;33m}\u001b[0m\u001b[1;33m\u001b[0m\u001b[1;33m\u001b[0m\u001b[0m\n\u001b[0;32m    632\u001b[0m         \u001b[0mparams\u001b[0m\u001b[1;33m[\u001b[0m\u001b[1;34m'id'\u001b[0m\u001b[1;33m]\u001b[0m \u001b[1;33m=\u001b[0m \u001b[0mself\u001b[0m\u001b[1;33m.\u001b[0m\u001b[0m_id\u001b[0m\u001b[1;33m\u001b[0m\u001b[1;33m\u001b[0m\u001b[0m\n\u001b[1;32m--> 633\u001b[1;33m         \u001b[1;32mreturn\u001b[0m \u001b[0mself\u001b[0m\u001b[1;33m.\u001b[0m\u001b[0m_parent\u001b[0m\u001b[1;33m.\u001b[0m\u001b[0mexecute\u001b[0m\u001b[1;33m(\u001b[0m\u001b[0mcommand\u001b[0m\u001b[1;33m,\u001b[0m \u001b[0mparams\u001b[0m\u001b[1;33m)\u001b[0m\u001b[1;33m\u001b[0m\u001b[1;33m\u001b[0m\u001b[0m\n\u001b[0m\u001b[0;32m    634\u001b[0m \u001b[1;33m\u001b[0m\u001b[0m\n\u001b[0;32m    635\u001b[0m     \u001b[1;32mdef\u001b[0m \u001b[0mfind_element\u001b[0m\u001b[1;33m(\u001b[0m\u001b[0mself\u001b[0m\u001b[1;33m,\u001b[0m \u001b[0mby\u001b[0m\u001b[1;33m=\u001b[0m\u001b[0mBy\u001b[0m\u001b[1;33m.\u001b[0m\u001b[0mID\u001b[0m\u001b[1;33m,\u001b[0m \u001b[0mvalue\u001b[0m\u001b[1;33m=\u001b[0m\u001b[1;32mNone\u001b[0m\u001b[1;33m)\u001b[0m\u001b[1;33m:\u001b[0m\u001b[1;33m\u001b[0m\u001b[1;33m\u001b[0m\u001b[0m\n",
      "\u001b[1;32m~\\Anaconda3\\lib\\site-packages\\selenium\\webdriver\\remote\\webdriver.py\u001b[0m in \u001b[0;36mexecute\u001b[1;34m(self, driver_command, params)\u001b[0m\n\u001b[0;32m    319\u001b[0m         \u001b[0mresponse\u001b[0m \u001b[1;33m=\u001b[0m \u001b[0mself\u001b[0m\u001b[1;33m.\u001b[0m\u001b[0mcommand_executor\u001b[0m\u001b[1;33m.\u001b[0m\u001b[0mexecute\u001b[0m\u001b[1;33m(\u001b[0m\u001b[0mdriver_command\u001b[0m\u001b[1;33m,\u001b[0m \u001b[0mparams\u001b[0m\u001b[1;33m)\u001b[0m\u001b[1;33m\u001b[0m\u001b[1;33m\u001b[0m\u001b[0m\n\u001b[0;32m    320\u001b[0m         \u001b[1;32mif\u001b[0m \u001b[0mresponse\u001b[0m\u001b[1;33m:\u001b[0m\u001b[1;33m\u001b[0m\u001b[1;33m\u001b[0m\u001b[0m\n\u001b[1;32m--> 321\u001b[1;33m             \u001b[0mself\u001b[0m\u001b[1;33m.\u001b[0m\u001b[0merror_handler\u001b[0m\u001b[1;33m.\u001b[0m\u001b[0mcheck_response\u001b[0m\u001b[1;33m(\u001b[0m\u001b[0mresponse\u001b[0m\u001b[1;33m)\u001b[0m\u001b[1;33m\u001b[0m\u001b[1;33m\u001b[0m\u001b[0m\n\u001b[0m\u001b[0;32m    322\u001b[0m             response['value'] = self._unwrap_value(\n\u001b[0;32m    323\u001b[0m                 response.get('value', None))\n",
      "\u001b[1;32m~\\Anaconda3\\lib\\site-packages\\selenium\\webdriver\\remote\\errorhandler.py\u001b[0m in \u001b[0;36mcheck_response\u001b[1;34m(self, response)\u001b[0m\n\u001b[0;32m    240\u001b[0m                 \u001b[0malert_text\u001b[0m \u001b[1;33m=\u001b[0m \u001b[0mvalue\u001b[0m\u001b[1;33m[\u001b[0m\u001b[1;34m'alert'\u001b[0m\u001b[1;33m]\u001b[0m\u001b[1;33m.\u001b[0m\u001b[0mget\u001b[0m\u001b[1;33m(\u001b[0m\u001b[1;34m'text'\u001b[0m\u001b[1;33m)\u001b[0m\u001b[1;33m\u001b[0m\u001b[1;33m\u001b[0m\u001b[0m\n\u001b[0;32m    241\u001b[0m             \u001b[1;32mraise\u001b[0m \u001b[0mexception_class\u001b[0m\u001b[1;33m(\u001b[0m\u001b[0mmessage\u001b[0m\u001b[1;33m,\u001b[0m \u001b[0mscreen\u001b[0m\u001b[1;33m,\u001b[0m \u001b[0mstacktrace\u001b[0m\u001b[1;33m,\u001b[0m \u001b[0malert_text\u001b[0m\u001b[1;33m)\u001b[0m\u001b[1;33m\u001b[0m\u001b[1;33m\u001b[0m\u001b[0m\n\u001b[1;32m--> 242\u001b[1;33m         \u001b[1;32mraise\u001b[0m \u001b[0mexception_class\u001b[0m\u001b[1;33m(\u001b[0m\u001b[0mmessage\u001b[0m\u001b[1;33m,\u001b[0m \u001b[0mscreen\u001b[0m\u001b[1;33m,\u001b[0m \u001b[0mstacktrace\u001b[0m\u001b[1;33m)\u001b[0m\u001b[1;33m\u001b[0m\u001b[1;33m\u001b[0m\u001b[0m\n\u001b[0m\u001b[0;32m    243\u001b[0m \u001b[1;33m\u001b[0m\u001b[0m\n\u001b[0;32m    244\u001b[0m     \u001b[1;32mdef\u001b[0m \u001b[0m_value_or_default\u001b[0m\u001b[1;33m(\u001b[0m\u001b[0mself\u001b[0m\u001b[1;33m,\u001b[0m \u001b[0mobj\u001b[0m\u001b[1;33m,\u001b[0m \u001b[0mkey\u001b[0m\u001b[1;33m,\u001b[0m \u001b[0mdefault\u001b[0m\u001b[1;33m)\u001b[0m\u001b[1;33m:\u001b[0m\u001b[1;33m\u001b[0m\u001b[1;33m\u001b[0m\u001b[0m\n",
      "\u001b[1;31mElementClickInterceptedException\u001b[0m: Message: element click intercepted: Element <select class=\"si-selectBox si-season-change\">...</select> is not clickable at point (1120, 20). Other element would receive the click: <a href=\"https://twitter.com/ProKabaddi\" target=\"_blank\" rel=\"nofollow\" class=\"twitter\"></a>\n  (Session info: chrome=77.0.3865.90)\n"
     ]
    }
   ],
   "source": [
    "for option in select_all:\n",
    "    print(\"Value is: %s\" % option.get_attribute(\"value\"))\n",
    "    if option.get_attribute(\"value\")=='Season 3':\n",
    "        option.click()\n",
    "\n",
    "\n",
    "    "
   ]
  },
  {
   "cell_type": "code",
   "execution_count": 183,
   "metadata": {},
   "outputs": [],
   "source": [
    "option_all =driver.find_elements_by_tag_name('option')\n",
    "\n",
    "for option in option_all:\n",
    "    #print(\"Value is: %s\" % option.get_attribute(\"value\"))\n",
    "    if option.get_attribute(\"value\")=='Season 7':\n",
    "        option.click()\n"
   ]
  },
  {
   "cell_type": "code",
   "execution_count": 184,
   "metadata": {},
   "outputs": [],
   "source": [
    "soup=BeautifulSoup(driver.page_source)"
   ]
  },
  {
   "cell_type": "code",
   "execution_count": 185,
   "metadata": {},
   "outputs": [],
   "source": [
    "season1_match=soup.findAll('div',attrs={'mat-resultStatus'})"
   ]
  },
  {
   "cell_type": "code",
   "execution_count": 186,
   "metadata": {},
   "outputs": [],
   "source": [
    "match_f=\"\"\n",
    "for match in season1_match:\n",
    "    match_s=str(match)\n",
    "    match_s=match_s.replace('span','')\n",
    "    match_s=match_s.replace('<div class=\"mat-resultStatus\">','')\n",
    "    match_s=match_s.replace('\\n','')\n",
    "    match_s=match_s.replace('<>','')\n",
    "    match_s=match_s.replace('</></div>','')\n",
    "    match_s=match_s.replace('beat','|')\n",
    "    match_s=match_s.replace('-','|')\n",
    "    match_s=match_s.replace('(','|')\n",
    "    match_s=match_s.replace(')','')\n",
    "    match_s=match_s.strip()\n",
    "    match_f=match_f+match_s+','\n",
    "match_f=match_f[:-1]\n",
    "match_list=list(match_f.split(\",\"))"
   ]
  },
  {
   "cell_type": "code",
   "execution_count": 189,
   "metadata": {},
   "outputs": [],
   "source": [
    "df = pd.DataFrame(match_list) \n",
    "\n"
   ]
  },
  {
   "cell_type": "code",
   "execution_count": 191,
   "metadata": {},
   "outputs": [],
   "source": [
    "df.to_csv(index=False,path_or_buf='C:/Users/vicky/Desktop/season7_matches.csv')"
   ]
  },
  {
   "cell_type": "code",
   "execution_count": 197,
   "metadata": {},
   "outputs": [],
   "source": [
    "##player and team member "
   ]
  },
  {
   "cell_type": "code",
   "execution_count": 198,
   "metadata": {},
   "outputs": [
    {
     "data": {
      "text/plain": [
       "['teams/bengal-warriors-profile-4',\n",
       " 'teams/bengaluru-bulls-profile-1',\n",
       " 'teams/dabang-delhi-kc-profile-2',\n",
       " 'teams/gujarat-fortunegiants-profile-31',\n",
       " 'teams/haryana-steelers-profile-28',\n",
       " 'teams/jaipur-pink-panthers-profile-3',\n",
       " 'teams/patna-pirates-profile-6',\n",
       " 'teams/puneri-paltan-profile-7',\n",
       " 'teams/tamil-thalaivas-profile-29',\n",
       " 'teams/telugu-titans-profile-8',\n",
       " 'teams/u-mumba-profile-5',\n",
       " 'teams/up-yoddha-profile-30']"
      ]
     },
     "execution_count": 198,
     "metadata": {},
     "output_type": "execute_result"
    }
   ],
   "source": [
    "['teams/bengal-warriors-profile-4',\n",
    "'teams/bengaluru-bulls-profile-1',\n",
    "'teams/dabang-delhi-kc-profile-2',\n",
    "'teams/gujarat-fortunegiants-profile-31',\n",
    "'teams/haryana-steelers-profile-28',\n",
    "'teams/jaipur-pink-panthers-profile-3',\n",
    "'teams/patna-pirates-profile-6',\n",
    "'teams/puneri-paltan-profile-7',\n",
    "'teams/tamil-thalaivas-profile-29',\n",
    "'teams/telugu-titans-profile-8',\n",
    "'teams/u-mumba-profile-5',\n",
    "'teams/up-yoddha-profile-30']"
   ]
  },
  {
   "cell_type": "code",
   "execution_count": 311,
   "metadata": {},
   "outputs": [],
   "source": [
    "from bs4 import BeautifulSoup\n",
    "from selenium  import webdriver\n",
    "from selenium.webdriver.chrome.options  import Options\n",
    "option=Options()\n",
    "driver = webdriver.Chrome(executable_path='C:/Users/vicky/Downloads/chromedriver_win32/chromedriver.exe',options=option)\n",
    "#driver = webdriver.Chrome()\n",
    "driver.get('https://www.prokabaddi.com/teams/up-yoddha-profile-30/players')"
   ]
  },
  {
   "cell_type": "code",
   "execution_count": 312,
   "metadata": {},
   "outputs": [],
   "source": [
    "soup = BeautifulSoup(driver.page_source)"
   ]
  },
  {
   "cell_type": "code",
   "execution_count": 313,
   "metadata": {},
   "outputs": [],
   "source": [
    "#si-plyrName\n",
    "player_=soup.findAll('div',attrs={'class':'si-txt1'})\n",
    "p_f=\"\"\n",
    "for p in player_:\n",
    "    p_s=str(p)\n",
    "    p_s=p_s.replace('<div class=\"si-txt1\">','')\n",
    "    p_s=p_s.replace('<>','')\n",
    "    p_s=p_s.replace('</div>','')\n",
    "    p_s=p_s.strip()\n",
    "    p_f=p_f+p_s+','\n",
    "p_f=p_f[:-1]\n",
    "firstN_list=list(p_f.split(\",\"))\n",
    "\n",
    "player_2=soup.findAll('div',attrs={'class':'si-txt2'})\n",
    "p_f2=\"\"\n",
    "for p2 in player_2:\n",
    "    p2_s=str(p2)\n",
    "    p2_s=p2_s.replace('<div class=\"si-txt2\">','')\n",
    "    p2_s=p2_s.replace('<>','')\n",
    "    p2_s=p2_s.replace('</div>','')\n",
    "    p2_s=p2_s.strip()\n",
    "    p_f2=p_f2+p2_s+','\n",
    "p_f2=p_f2[:-1]\n",
    "lastN_list=list(p_f2.split(\",\"))"
   ]
  },
  {
   "cell_type": "code",
   "execution_count": 314,
   "metadata": {},
   "outputs": [],
   "source": [
    "import pandas as pd\n",
    "df = pd.DataFrame(list(zip(firstN_list, lastN_list)), \n",
    "               columns =['First_Name', 'Last_Name'])"
   ]
  },
  {
   "cell_type": "code",
   "execution_count": 315,
   "metadata": {},
   "outputs": [
    {
     "data": {
      "text/html": [
       "<div>\n",
       "<style scoped>\n",
       "    .dataframe tbody tr th:only-of-type {\n",
       "        vertical-align: middle;\n",
       "    }\n",
       "\n",
       "    .dataframe tbody tr th {\n",
       "        vertical-align: top;\n",
       "    }\n",
       "\n",
       "    .dataframe thead th {\n",
       "        text-align: right;\n",
       "    }\n",
       "</style>\n",
       "<table border=\"1\" class=\"dataframe\">\n",
       "  <thead>\n",
       "    <tr style=\"text-align: right;\">\n",
       "      <th></th>\n",
       "      <th>First_Name</th>\n",
       "      <th>Last_Name</th>\n",
       "    </tr>\n",
       "  </thead>\n",
       "  <tbody>\n",
       "    <tr>\n",
       "      <th>0</th>\n",
       "      <td>Nitesh</td>\n",
       "      <td>Kumar</td>\n",
       "    </tr>\n",
       "  </tbody>\n",
       "</table>\n",
       "</div>"
      ],
      "text/plain": [
       "  First_Name Last_Name\n",
       "0     Nitesh     Kumar"
      ]
     },
     "execution_count": 315,
     "metadata": {},
     "output_type": "execute_result"
    }
   ],
   "source": [
    "df.head(1)"
   ]
  },
  {
   "cell_type": "code",
   "execution_count": 316,
   "metadata": {},
   "outputs": [],
   "source": [
    "df.to_csv(index=False,path_or_buf='C:/Users/vicky/Desktop/up-yoddha.csv')"
   ]
  },
  {
   "cell_type": "code",
   "execution_count": 233,
   "metadata": {},
   "outputs": [],
   "source": []
  },
  {
   "cell_type": "code",
   "execution_count": 234,
   "metadata": {},
   "outputs": [
    {
     "data": {
      "text/plain": [
       "'Manik Dubile,'"
      ]
     },
     "execution_count": 234,
     "metadata": {},
     "output_type": "execute_result"
    }
   ],
   "source": [
    "p2_s"
   ]
  },
  {
   "cell_type": "code",
   "execution_count": null,
   "metadata": {},
   "outputs": [],
   "source": []
  }
 ],
 "metadata": {
  "kernelspec": {
   "display_name": "Python 3",
   "language": "python",
   "name": "python3"
  },
  "language_info": {
   "codemirror_mode": {
    "name": "ipython",
    "version": 3
   },
   "file_extension": ".py",
   "mimetype": "text/x-python",
   "name": "python",
   "nbconvert_exporter": "python",
   "pygments_lexer": "ipython3",
   "version": "3.6.8"
  }
 },
 "nbformat": 4,
 "nbformat_minor": 2
}
